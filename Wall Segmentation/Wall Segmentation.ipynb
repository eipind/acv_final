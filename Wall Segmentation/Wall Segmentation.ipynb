{
 "cells": [
  {
   "cell_type": "code",
   "execution_count": 2,
   "metadata": {},
   "outputs": [
    {
     "name": "stdout",
     "output_type": "stream",
     "text": [
      "successful load img: /Users/user/Desktop/acv_final/Indoor-segmentation/input/new2.jpg\n",
      "WARNING:tensorflow:From /Users/user/Desktop/acv_final/Indoor-segmentation/inference.py:115: calling argmax (from tensorflow.python.ops.math_ops) with dimension is deprecated and will be removed in a future version.\n",
      "Instructions for updating:\n",
      "Use the `axis` argument instead\n",
      "INFO:tensorflow:Restoring parameters from /Users/user/Desktop/acv_final/Indoor-segmentation/restore_weights/model.ckpt-100000\n",
      "Restored model parameters from /Users/user/Desktop/acv_final/Indoor-segmentation/restore_weights/model.ckpt-100000\n",
      "The output file has been saved to ./output/new2.jpg\n"
     ]
    }
   ],
   "source": [
    "%run inference.py --img_path ~/Desktop/acv_final/Indoor-segmentation/input/new2.jpg --restore_from ~/Desktop/acv_final/Indoor-segmentation/restore_weights/\n",
    "\n"
   ]
  },
  {
   "cell_type": "code",
   "execution_count": null,
   "metadata": {},
   "outputs": [],
   "source": []
  },
  {
   "cell_type": "code",
   "execution_count": null,
   "metadata": {},
   "outputs": [],
   "source": []
  }
 ],
 "metadata": {
  "kernelspec": {
   "display_name": "Python 2",
   "language": "python",
   "name": "python2"
  },
  "language_info": {
   "codemirror_mode": {
    "name": "ipython",
    "version": 2
   },
   "file_extension": ".py",
   "mimetype": "text/x-python",
   "name": "python",
   "nbconvert_exporter": "python",
   "pygments_lexer": "ipython2",
   "version": "2.7.8"
  }
 },
 "nbformat": 4,
 "nbformat_minor": 2
}
